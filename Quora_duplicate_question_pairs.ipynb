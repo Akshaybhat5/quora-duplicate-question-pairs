{
 "cells": [
  {
   "cell_type": "code",
   "execution_count": 1,
   "metadata": {},
   "outputs": [
    {
     "data": {
      "text/html": [
       "<style>.container { width:100% !important; }</style>"
      ],
      "text/plain": [
       "<IPython.core.display.HTML object>"
      ]
     },
     "metadata": {},
     "output_type": "display_data"
    }
   ],
   "source": [
    "from IPython.core.display import display, HTML\n",
    "display(HTML(\"<style>.container { width:100% !important; }</style>\"))"
   ]
  },
  {
   "cell_type": "code",
   "execution_count": 2,
   "metadata": {
    "colab": {
     "base_uri": "https://localhost:8080/"
    },
    "id": "FKWwxA0dth3Y",
    "outputId": "bcf9b5e5-b369-4021-8391-7611f77ec8a2"
   },
   "outputs": [
    {
     "name": "stderr",
     "output_type": "stream",
     "text": [
      "[nltk_data] Downloading package stopwords to\n",
      "[nltk_data]     /Users/akshaybhat/nltk_data...\n",
      "[nltk_data]   Package stopwords is already up-to-date!\n",
      "[nltk_data] Downloading package punkt to\n",
      "[nltk_data]     /Users/akshaybhat/nltk_data...\n",
      "[nltk_data]   Package punkt is already up-to-date!\n",
      "[nltk_data] Downloading package wordnet to\n",
      "[nltk_data]     /Users/akshaybhat/nltk_data...\n",
      "[nltk_data]   Package wordnet is already up-to-date!\n",
      "[nltk_data] Downloading package omw-1.4 to\n",
      "[nltk_data]     /Users/akshaybhat/nltk_data...\n",
      "[nltk_data]   Package omw-1.4 is already up-to-date!\n"
     ]
    }
   ],
   "source": [
    "import pandas as pd\n",
    "import matplotlib.pyplot as plt\n",
    "import seaborn as sns\n",
    "import numpy as np\n",
    "import re\n",
    "import nltk\n",
    "nltk.download('stopwords')\n",
    "nltk.download('punkt')\n",
    "nltk.download('wordnet')\n",
    "nltk.download('omw-1.4')\n",
    "from nltk.corpus import stopwords\n",
    "from nltk.stem.porter import PorterStemmer\n",
    "from nltk import WordNetLemmatizer, sent_tokenize, word_tokenize\n",
    "import string\n",
    "\n",
    "from sklearn.model_selection import train_test_split\n",
    "from sklearn.metrics import accuracy_score, confusion_matrix\n",
    "from sklearn.feature_extraction.text import CountVectorizer, TfidfVectorizer\n",
    "from sklearn.ensemble import RandomForestClassifier, AdaBoostClassifier, GradientBoostingClassifier\n",
    "from sklearn.naive_bayes import GaussianNB, MultinomialNB\n",
    "from xgboost import XGBClassifier"
   ]
  },
  {
   "cell_type": "code",
   "execution_count": 3,
   "metadata": {
    "id": "c_Dzot6numW6"
   },
   "outputs": [],
   "source": [
    "data = pd.read_csv('questions.csv') # data has 400k rows"
   ]
  },
  {
   "cell_type": "code",
   "execution_count": 4,
   "metadata": {
    "id": "omqSHyFRuqmg"
   },
   "outputs": [],
   "source": [
    "data = data[:50000] # taking it to 50k rows for the proto-type as well as for the memory error issue"
   ]
  },
  {
   "cell_type": "code",
   "execution_count": 5,
   "metadata": {
    "colab": {
     "base_uri": "https://localhost:8080/",
     "height": 201
    },
    "id": "6cUreZ86vNaF",
    "outputId": "c0de7bef-d644-41fb-fc58-769acddff583"
   },
   "outputs": [
    {
     "data": {
      "text/html": [
       "<div>\n",
       "<style scoped>\n",
       "    .dataframe tbody tr th:only-of-type {\n",
       "        vertical-align: middle;\n",
       "    }\n",
       "\n",
       "    .dataframe tbody tr th {\n",
       "        vertical-align: top;\n",
       "    }\n",
       "\n",
       "    .dataframe thead th {\n",
       "        text-align: right;\n",
       "    }\n",
       "</style>\n",
       "<table border=\"1\" class=\"dataframe\">\n",
       "  <thead>\n",
       "    <tr style=\"text-align: right;\">\n",
       "      <th></th>\n",
       "      <th>id</th>\n",
       "      <th>qid1</th>\n",
       "      <th>qid2</th>\n",
       "      <th>question1</th>\n",
       "      <th>question2</th>\n",
       "      <th>is_duplicate</th>\n",
       "    </tr>\n",
       "  </thead>\n",
       "  <tbody>\n",
       "    <tr>\n",
       "      <th>0</th>\n",
       "      <td>0</td>\n",
       "      <td>1</td>\n",
       "      <td>2</td>\n",
       "      <td>What is the step by step guide to invest in sh...</td>\n",
       "      <td>What is the step by step guide to invest in sh...</td>\n",
       "      <td>0</td>\n",
       "    </tr>\n",
       "    <tr>\n",
       "      <th>1</th>\n",
       "      <td>1</td>\n",
       "      <td>3</td>\n",
       "      <td>4</td>\n",
       "      <td>What is the story of Kohinoor (Koh-i-Noor) Dia...</td>\n",
       "      <td>What would happen if the Indian government sto...</td>\n",
       "      <td>0</td>\n",
       "    </tr>\n",
       "    <tr>\n",
       "      <th>2</th>\n",
       "      <td>2</td>\n",
       "      <td>5</td>\n",
       "      <td>6</td>\n",
       "      <td>How can I increase the speed of my internet co...</td>\n",
       "      <td>How can Internet speed be increased by hacking...</td>\n",
       "      <td>0</td>\n",
       "    </tr>\n",
       "    <tr>\n",
       "      <th>3</th>\n",
       "      <td>3</td>\n",
       "      <td>7</td>\n",
       "      <td>8</td>\n",
       "      <td>Why am I mentally very lonely? How can I solve...</td>\n",
       "      <td>Find the remainder when [math]23^{24}[/math] i...</td>\n",
       "      <td>0</td>\n",
       "    </tr>\n",
       "    <tr>\n",
       "      <th>4</th>\n",
       "      <td>4</td>\n",
       "      <td>9</td>\n",
       "      <td>10</td>\n",
       "      <td>Which one dissolve in water quikly sugar, salt...</td>\n",
       "      <td>Which fish would survive in salt water?</td>\n",
       "      <td>0</td>\n",
       "    </tr>\n",
       "  </tbody>\n",
       "</table>\n",
       "</div>"
      ],
      "text/plain": [
       "   id  qid1  qid2                                          question1  \\\n",
       "0   0     1     2  What is the step by step guide to invest in sh...   \n",
       "1   1     3     4  What is the story of Kohinoor (Koh-i-Noor) Dia...   \n",
       "2   2     5     6  How can I increase the speed of my internet co...   \n",
       "3   3     7     8  Why am I mentally very lonely? How can I solve...   \n",
       "4   4     9    10  Which one dissolve in water quikly sugar, salt...   \n",
       "\n",
       "                                           question2  is_duplicate  \n",
       "0  What is the step by step guide to invest in sh...             0  \n",
       "1  What would happen if the Indian government sto...             0  \n",
       "2  How can Internet speed be increased by hacking...             0  \n",
       "3  Find the remainder when [math]23^{24}[/math] i...             0  \n",
       "4            Which fish would survive in salt water?             0  "
      ]
     },
     "execution_count": 5,
     "metadata": {},
     "output_type": "execute_result"
    }
   ],
   "source": [
    "data.head()"
   ]
  },
  {
   "cell_type": "code",
   "execution_count": 6,
   "metadata": {
    "colab": {
     "base_uri": "https://localhost:8080/"
    },
    "id": "IuBwdyfNjjdL",
    "outputId": "69a9f55f-d4e6-4b28-af28-666884d19c15"
   },
   "outputs": [
    {
     "data": {
      "text/plain": [
       "50000"
      ]
     },
     "execution_count": 6,
     "metadata": {},
     "output_type": "execute_result"
    }
   ],
   "source": [
    "len(data)"
   ]
  },
  {
   "cell_type": "code",
   "execution_count": 7,
   "metadata": {
    "colab": {
     "base_uri": "https://localhost:8080/"
    },
    "id": "fCrK4o59vRPe",
    "outputId": "5dd85391-00f9-4922-b0ea-81de1fd64fad"
   },
   "outputs": [
    {
     "data": {
      "text/plain": [
       "id              0\n",
       "qid1            0\n",
       "qid2            0\n",
       "question1       0\n",
       "question2       0\n",
       "is_duplicate    0\n",
       "dtype: int64"
      ]
     },
     "execution_count": 7,
     "metadata": {},
     "output_type": "execute_result"
    }
   ],
   "source": [
    "data.isnull().sum()"
   ]
  },
  {
   "cell_type": "code",
   "execution_count": 8,
   "metadata": {
    "id": "Ail9R9wTjt0Z"
   },
   "outputs": [],
   "source": [
    "data = data.dropna()"
   ]
  },
  {
   "cell_type": "code",
   "execution_count": 9,
   "metadata": {
    "colab": {
     "base_uri": "https://localhost:8080/",
     "height": 349
    },
    "id": "8ItzfqGMvg-r",
    "outputId": "a2307526-9f9a-49a8-aab2-3a7255208e1b"
   },
   "outputs": [
    {
     "name": "stderr",
     "output_type": "stream",
     "text": [
      "/Applications/anaconda3/lib/python3.8/site-packages/seaborn/_decorators.py:36: FutureWarning: Pass the following variable as a keyword arg: x. From version 0.12, the only valid positional argument will be `data`, and passing other arguments without an explicit keyword will result in an error or misinterpretation.\n",
      "  warnings.warn(\n"
     ]
    },
    {
     "data": {
      "text/plain": [
       "<AxesSubplot:xlabel='is_duplicate', ylabel='count'>"
      ]
     },
     "execution_count": 9,
     "metadata": {},
     "output_type": "execute_result"
    },
    {
     "data": {
      "image/png": "[encoded data removed]",
      "text/plain": [
       "<Figure size 432x288 with 1 Axes>"
      ]
     },
     "metadata": {
      "needs_background": "light"
     },
     "output_type": "display_data"
    }
   ],
   "source": [
    "sns.countplot(data['is_duplicate'])"
   ]
  },
  {
   "cell_type": "code",
   "execution_count": 10,
   "metadata": {
    "colab": {
     "base_uri": "https://localhost:8080/"
    },
    "id": "MfGpGoCFvoq4",
    "outputId": "cbad8e05-fd91-469f-bc6d-06befedc74a1"
   },
   "outputs": [
    {
     "data": {
      "text/plain": [
       "0    31350\n",
       "1    18650\n",
       "Name: is_duplicate, dtype: int64"
      ]
     },
     "execution_count": 10,
     "metadata": {},
     "output_type": "execute_result"
    }
   ],
   "source": [
    "data['is_duplicate'].value_counts()"
   ]
  },
  {
   "cell_type": "code",
   "execution_count": 11,
   "metadata": {
    "colab": {
     "base_uri": "https://localhost:8080/"
    },
    "id": "VlgOilKpvtpa",
    "outputId": "5f8444f4-3f64-46d6-d8b5-21b20e211920"
   },
   "outputs": [
    {
     "name": "stdout",
     "output_type": "stream",
     "text": [
      "The percentage of duplicated to non-duplicated: \n"
     ]
    },
    {
     "data": {
      "text/plain": [
       "0    62.7\n",
       "1    37.3\n",
       "Name: is_duplicate, dtype: float64"
      ]
     },
     "execution_count": 11,
     "metadata": {},
     "output_type": "execute_result"
    }
   ],
   "source": [
    "#percentage of duplicate and non-duplicate values\n",
    "print('The percentage of duplicated to non-duplicated: ')\n",
    "(data['is_duplicate'].value_counts() / data['is_duplicate'].count()* 100)"
   ]
  },
  {
   "cell_type": "markdown",
   "metadata": {
    "id": "SOoA8PniwNnm"
   },
   "source": [
    "**The data is imbalanced**"
   ]
  },
  {
   "cell_type": "code",
   "execution_count": null,
   "metadata": {
    "id": "r-VtKfhSv7hb"
   },
   "outputs": [],
   "source": []
  },
  {
   "cell_type": "markdown",
   "metadata": {
    "id": "6u_a9oHywXnM"
   },
   "source": [
    "# Text Preprocessing & Feature Engineering"
   ]
  },
  {
   "cell_type": "code",
   "execution_count": 12,
   "metadata": {
    "id": "uHODdbQgwcmL"
   },
   "outputs": [],
   "source": [
    "def text_preprocess(text):\n",
    "\n",
    "    # lowercase and strip the text\n",
    "    text = str(text).lower().strip()\n",
    "\n",
    "    # remove all the html tags\n",
    "    def remove_html_tags(text):\n",
    "        tags_removed = re.compile(r'<.*?>')\n",
    "        return tags_removed.sub(r'', text)\n",
    "    text = remove_html_tags(text)\n",
    "\n",
    "    # replace certain parameters\n",
    "    def replace_things(text):\n",
    "        text = text.replace('$', ' dollars ')\n",
    "        text = text.replace('%', ' percent ')\n",
    "        text = text.replace('-', '')\n",
    "        text = text.replace('₹', ' rupees ')\n",
    "        text = text.replace('€', ' euros ')\n",
    "        text = text.replace('£', ' ponds ')\n",
    "        text = re.sub(r'([0-9]+)000000000', r'\\1b', text)\n",
    "        text = re.sub(r'([0-9]+)000000', r'\\1m', text)\n",
    "        text = re.sub(r'([0-9]+)000', r'\\1k', text)\n",
    "        text = re.sub(r'([0-9]+),000,000,000', r'\\1b', text)\n",
    "        text = re.sub(r'([0-9]+),000,000', r'\\1m', text)\n",
    "        text = re.sub(r'([0-9]+),000', r'\\1k', text)\n",
    "        return text\n",
    "    text = replace_things(text)\n",
    "\n",
    "    # stopwords removal\n",
    "    def remove_stopwords(text):\n",
    "        new_corpus = []\n",
    "        for word in text.split():\n",
    "            if word in stopwords.words('english'):\n",
    "                new_corpus.append('')\n",
    "            else:\n",
    "                new_corpus.append(word)\n",
    "        corpus = new_corpus[:]\n",
    "        new_corpus.clear()\n",
    "        return ' '.join(corpus)\n",
    "    text = remove_stopwords(text)\n",
    "\n",
    "    # tokenization\n",
    "    def tokenization(text):\n",
    "        #lets try with sentence tokenization\n",
    "        # words = sent_tokenize(text)\n",
    "        # lets try with word tokenization\n",
    "        new = word_tokenize(text)\n",
    "        return ' '.join(new)\n",
    "    text = tokenization(text)\n",
    "\n",
    "    # stemming / lemmatization\n",
    "    def stemming_process(text):\n",
    "        ps = PorterStemmer()\n",
    "        ws = WordNetLemmatizer()\n",
    "        stem = [ws.lemmatize(word) for word in text]\n",
    "        return ''.join(stem)\n",
    "    text = stemming_process(text)\n",
    "\n",
    "    # remove puncuations\n",
    "    def remove_punctuation(text):\n",
    "        exclude = string.punctuation\n",
    "        return text.translate(str.maketrans('','',exclude))\n",
    "    text = remove_punctuation(text)\n",
    "\n",
    "    return text.strip()"
   ]
  },
  {
   "cell_type": "code",
   "execution_count": 13,
   "metadata": {
    "colab": {
     "base_uri": "https://localhost:8080/",
     "height": 34
    },
    "id": "YtSMpSL1zSZE",
    "outputId": "c256e03b-32ec-4890-c71a-5c5a0de73fdc"
   },
   "outputs": [
    {
     "data": {
      "text/plain": [
       "'akshay bhat 100k dollars training beautiful'"
      ]
     },
     "execution_count": 13,
     "metadata": {},
     "output_type": "execute_result"
    }
   ],
   "source": [
    "sentence = 'I AM AKSHAY BHAT <kskksk/.> and 100,000$ training the most beautiful'\n",
    "text_preprocess(sentence)"
   ]
  },
  {
   "cell_type": "code",
   "execution_count": 14,
   "metadata": {
    "id": "FNDW-WwRkORi"
   },
   "outputs": [],
   "source": [
    "# apply it on the dataset\n",
    "data['question1'] = data['question1'].apply(text_preprocess)\n",
    "data['question2'] = data['question2'].apply(text_preprocess)"
   ]
  },
  {
   "cell_type": "code",
   "execution_count": 15,
   "metadata": {
    "colab": {
     "base_uri": "https://localhost:8080/",
     "height": 201
    },
    "id": "XdGWqgWFkO3N",
    "outputId": "b103c4c0-ab18-4478-dd11-e75a9de62165"
   },
   "outputs": [
    {
     "data": {
      "text/html": [
       "<div>\n",
       "<style scoped>\n",
       "    .dataframe tbody tr th:only-of-type {\n",
       "        vertical-align: middle;\n",
       "    }\n",
       "\n",
       "    .dataframe tbody tr th {\n",
       "        vertical-align: top;\n",
       "    }\n",
       "\n",
       "    .dataframe thead th {\n",
       "        text-align: right;\n",
       "    }\n",
       "</style>\n",
       "<table border=\"1\" class=\"dataframe\">\n",
       "  <thead>\n",
       "    <tr style=\"text-align: right;\">\n",
       "      <th></th>\n",
       "      <th>id</th>\n",
       "      <th>qid1</th>\n",
       "      <th>qid2</th>\n",
       "      <th>question1</th>\n",
       "      <th>question2</th>\n",
       "      <th>is_duplicate</th>\n",
       "    </tr>\n",
       "  </thead>\n",
       "  <tbody>\n",
       "    <tr>\n",
       "      <th>0</th>\n",
       "      <td>0</td>\n",
       "      <td>1</td>\n",
       "      <td>2</td>\n",
       "      <td>step step guide invest share market india</td>\n",
       "      <td>step step guide invest share market</td>\n",
       "      <td>0</td>\n",
       "    </tr>\n",
       "    <tr>\n",
       "      <th>1</th>\n",
       "      <td>1</td>\n",
       "      <td>3</td>\n",
       "      <td>4</td>\n",
       "      <td>story kohinoor  kohinoor  diamond</td>\n",
       "      <td>would happen indian government stole kohinoor ...</td>\n",
       "      <td>0</td>\n",
       "    </tr>\n",
       "    <tr>\n",
       "      <th>2</th>\n",
       "      <td>2</td>\n",
       "      <td>5</td>\n",
       "      <td>6</td>\n",
       "      <td>increase speed internet connection using vpn</td>\n",
       "      <td>internet speed increased hacking dns</td>\n",
       "      <td>0</td>\n",
       "    </tr>\n",
       "    <tr>\n",
       "      <th>3</th>\n",
       "      <td>3</td>\n",
       "      <td>7</td>\n",
       "      <td>8</td>\n",
       "      <td>mentally lonely  solve it</td>\n",
       "      <td>find remainder  math  23  24   math  divided 2423</td>\n",
       "      <td>0</td>\n",
       "    </tr>\n",
       "    <tr>\n",
       "      <th>4</th>\n",
       "      <td>4</td>\n",
       "      <td>9</td>\n",
       "      <td>10</td>\n",
       "      <td>one dissolve water quikly sugar  salt  methane...</td>\n",
       "      <td>fish would survive salt water</td>\n",
       "      <td>0</td>\n",
       "    </tr>\n",
       "  </tbody>\n",
       "</table>\n",
       "</div>"
      ],
      "text/plain": [
       "   id  qid1  qid2                                          question1  \\\n",
       "0   0     1     2          step step guide invest share market india   \n",
       "1   1     3     4                  story kohinoor  kohinoor  diamond   \n",
       "2   2     5     6       increase speed internet connection using vpn   \n",
       "3   3     7     8                          mentally lonely  solve it   \n",
       "4   4     9    10  one dissolve water quikly sugar  salt  methane...   \n",
       "\n",
       "                                           question2  is_duplicate  \n",
       "0                step step guide invest share market             0  \n",
       "1  would happen indian government stole kohinoor ...             0  \n",
       "2               internet speed increased hacking dns             0  \n",
       "3  find remainder  math  23  24   math  divided 2423             0  \n",
       "4                      fish would survive salt water             0  "
      ]
     },
     "execution_count": 15,
     "metadata": {},
     "output_type": "execute_result"
    }
   ],
   "source": [
    "data.head()"
   ]
  },
  {
   "cell_type": "code",
   "execution_count": 16,
   "metadata": {
    "id": "r9njlGfdmR2A"
   },
   "outputs": [],
   "source": [
    "# data for further modelling\n",
    "data_for_modelling = data[['question1', 'question2', 'is_duplicate']]"
   ]
  },
  {
   "cell_type": "code",
   "execution_count": 17,
   "metadata": {
    "colab": {
     "base_uri": "https://localhost:8080/",
     "height": 411
    },
    "id": "qFsAHGAvnsgE",
    "outputId": "759c5ba0-2da4-4bc1-f8a1-18b2c729f1c7"
   },
   "outputs": [
    {
     "data": {
      "text/html": [
       "<div>\n",
       "<style scoped>\n",
       "    .dataframe tbody tr th:only-of-type {\n",
       "        vertical-align: middle;\n",
       "    }\n",
       "\n",
       "    .dataframe tbody tr th {\n",
       "        vertical-align: top;\n",
       "    }\n",
       "\n",
       "    .dataframe thead th {\n",
       "        text-align: right;\n",
       "    }\n",
       "</style>\n",
       "<table border=\"1\" class=\"dataframe\">\n",
       "  <thead>\n",
       "    <tr style=\"text-align: right;\">\n",
       "      <th></th>\n",
       "      <th>question1</th>\n",
       "      <th>question2</th>\n",
       "      <th>is_duplicate</th>\n",
       "    </tr>\n",
       "  </thead>\n",
       "  <tbody>\n",
       "    <tr>\n",
       "      <th>0</th>\n",
       "      <td>step step guide invest share market india</td>\n",
       "      <td>step step guide invest share market</td>\n",
       "      <td>0</td>\n",
       "    </tr>\n",
       "    <tr>\n",
       "      <th>1</th>\n",
       "      <td>story kohinoor  kohinoor  diamond</td>\n",
       "      <td>would happen indian government stole kohinoor ...</td>\n",
       "      <td>0</td>\n",
       "    </tr>\n",
       "    <tr>\n",
       "      <th>2</th>\n",
       "      <td>increase speed internet connection using vpn</td>\n",
       "      <td>internet speed increased hacking dns</td>\n",
       "      <td>0</td>\n",
       "    </tr>\n",
       "    <tr>\n",
       "      <th>3</th>\n",
       "      <td>mentally lonely  solve it</td>\n",
       "      <td>find remainder  math  23  24   math  divided 2423</td>\n",
       "      <td>0</td>\n",
       "    </tr>\n",
       "    <tr>\n",
       "      <th>4</th>\n",
       "      <td>one dissolve water quikly sugar  salt  methane...</td>\n",
       "      <td>fish would survive salt water</td>\n",
       "      <td>0</td>\n",
       "    </tr>\n",
       "    <tr>\n",
       "      <th>...</th>\n",
       "      <td>...</td>\n",
       "      <td>...</td>\n",
       "      <td>...</td>\n",
       "    </tr>\n",
       "    <tr>\n",
       "      <th>49995</th>\n",
       "      <td>become succesful electrical maintenance engineer</td>\n",
       "      <td>best way good maintenance electrical engineer</td>\n",
       "      <td>1</td>\n",
       "    </tr>\n",
       "    <tr>\n",
       "      <th>49996</th>\n",
       "      <td>aside essays  differences business school appl...</td>\n",
       "      <td>aside essays  differences business school appl...</td>\n",
       "      <td>0</td>\n",
       "    </tr>\n",
       "    <tr>\n",
       "      <th>49997</th>\n",
       "      <td>kill procrastination</td>\n",
       "      <td>what s efficient way overcome procrastination</td>\n",
       "      <td>0</td>\n",
       "    </tr>\n",
       "    <tr>\n",
       "      <th>49998</th>\n",
       "      <td>control anger towards friends</td>\n",
       "      <td>control anger towards family</td>\n",
       "      <td>0</td>\n",
       "    </tr>\n",
       "    <tr>\n",
       "      <th>49999</th>\n",
       "      <td>easiest  painless way die instantly</td>\n",
       "      <td>die painlessly want to</td>\n",
       "      <td>0</td>\n",
       "    </tr>\n",
       "  </tbody>\n",
       "</table>\n",
       "<p>50000 rows × 3 columns</p>\n",
       "</div>"
      ],
      "text/plain": [
       "                                               question1  \\\n",
       "0              step step guide invest share market india   \n",
       "1                      story kohinoor  kohinoor  diamond   \n",
       "2           increase speed internet connection using vpn   \n",
       "3                              mentally lonely  solve it   \n",
       "4      one dissolve water quikly sugar  salt  methane...   \n",
       "...                                                  ...   \n",
       "49995   become succesful electrical maintenance engineer   \n",
       "49996  aside essays  differences business school appl...   \n",
       "49997                               kill procrastination   \n",
       "49998                      control anger towards friends   \n",
       "49999                easiest  painless way die instantly   \n",
       "\n",
       "                                               question2  is_duplicate  \n",
       "0                    step step guide invest share market             0  \n",
       "1      would happen indian government stole kohinoor ...             0  \n",
       "2                   internet speed increased hacking dns             0  \n",
       "3      find remainder  math  23  24   math  divided 2423             0  \n",
       "4                          fish would survive salt water             0  \n",
       "...                                                  ...           ...  \n",
       "49995      best way good maintenance electrical engineer             1  \n",
       "49996  aside essays  differences business school appl...             0  \n",
       "49997      what s efficient way overcome procrastination             0  \n",
       "49998                       control anger towards family             0  \n",
       "49999                             die painlessly want to             0  \n",
       "\n",
       "[50000 rows x 3 columns]"
      ]
     },
     "execution_count": 17,
     "metadata": {},
     "output_type": "execute_result"
    }
   ],
   "source": [
    "data_for_modelling"
   ]
  },
  {
   "cell_type": "code",
   "execution_count": 18,
   "metadata": {
    "colab": {
     "base_uri": "https://localhost:8080/"
    },
    "id": "B52gFafenuHC",
    "outputId": "7803e35d-04e7-4c00-90d0-d6617a5abca6"
   },
   "outputs": [
    {
     "name": "stderr",
     "output_type": "stream",
     "text": [
      "<ipython-input-18-ae45c5c2ea40>:4: SettingWithCopyWarning: \n",
      "A value is trying to be set on a copy of a slice from a DataFrame.\n",
      "Try using .loc[row_indexer,col_indexer] = value instead\n",
      "\n",
      "See the caveats in the documentation: https://pandas.pydata.org/pandas-docs/stable/user_guide/indexing.html#returning-a-view-versus-a-copy\n",
      "  data_for_modelling['q1_count'] = data_for_modelling['question1'].str.len()\n",
      "<ipython-input-18-ae45c5c2ea40>:5: SettingWithCopyWarning: \n",
      "A value is trying to be set on a copy of a slice from a DataFrame.\n",
      "Try using .loc[row_indexer,col_indexer] = value instead\n",
      "\n",
      "See the caveats in the documentation: https://pandas.pydata.org/pandas-docs/stable/user_guide/indexing.html#returning-a-view-versus-a-copy\n",
      "  data_for_modelling['q2_count'] = data_for_modelling['question2'].str.len()\n"
     ]
    }
   ],
   "source": [
    "# feature engineering part\n",
    "\n",
    "#total length\n",
    "data_for_modelling['q1_count'] = data_for_modelling['question1'].str.len()\n",
    "data_for_modelling['q2_count'] = data_for_modelling['question2'].str.len()\n",
    "\n",
    "# word count\n",
    "data_for_modelling['q1_word_count'] = data_for_modelling['question1'].map(lambda x: len(x.split(' ')))\n",
    "data_for_modelling['q2_word_count'] = data_for_modelling['question2'].map(lambda x: len(x.split(' ')))\n",
    "\n",
    "# common words\n",
    "def common_words(row):\n",
    "    w1 = set(map(lambda x: x.lower().strip(), row['question1'].split(' ')))\n",
    "    w2 = set(map(lambda x: x.lower().strip(), row['question2'].split(' ')))\n",
    "    return len(w1 & w2)\n",
    "\n",
    "# total words\n",
    "def total_words(row):\n",
    "    w1 = set(map(lambda x: x.lower().strip(), row['question1'].split(' ')))\n",
    "    w2 = set(map(lambda x: x.lower().strip(), row['question2'].split(' ')))\n",
    "    return (len(w1) + len(w2))\n",
    "\n",
    "# common word ratio\n",
    "def common_words_ratio(row):\n",
    "    common = row['common_words'] / row['total_words']\n",
    "    return common\n",
    "\n",
    "\n",
    "\n",
    "data_for_modelling['common_words'] = data_for_modelling.apply(common_words, axis=1)\n",
    "data_for_modelling['total_words'] = data_for_modelling.apply(total_words, axis = 1)\n",
    "data_for_modelling['common_word_ratio'] = data_for_modelling.apply(common_words_ratio, axis = 1)"
   ]
  },
  {
   "cell_type": "code",
   "execution_count": 19,
   "metadata": {
    "colab": {
     "base_uri": "https://localhost:8080/",
     "height": 411
    },
    "id": "xkGyo4xasLHd",
    "outputId": "72b52123-e0d9-4da1-8c97-ecf6cf64cb32"
   },
   "outputs": [
    {
     "data": {
      "text/html": [
       "<div>\n",
       "<style scoped>\n",
       "    .dataframe tbody tr th:only-of-type {\n",
       "        vertical-align: middle;\n",
       "    }\n",
       "\n",
       "    .dataframe tbody tr th {\n",
       "        vertical-align: top;\n",
       "    }\n",
       "\n",
       "    .dataframe thead th {\n",
       "        text-align: right;\n",
       "    }\n",
       "</style>\n",
       "<table border=\"1\" class=\"dataframe\">\n",
       "  <thead>\n",
       "    <tr style=\"text-align: right;\">\n",
       "      <th></th>\n",
       "      <th>question1</th>\n",
       "      <th>question2</th>\n",
       "      <th>is_duplicate</th>\n",
       "      <th>q1_count</th>\n",
       "      <th>q2_count</th>\n",
       "      <th>q1_word_count</th>\n",
       "      <th>q2_word_count</th>\n",
       "      <th>common_words</th>\n",
       "      <th>total_words</th>\n",
       "      <th>common_word_ratio</th>\n",
       "    </tr>\n",
       "  </thead>\n",
       "  <tbody>\n",
       "    <tr>\n",
       "      <th>0</th>\n",
       "      <td>step step guide invest share market india</td>\n",
       "      <td>step step guide invest share market</td>\n",
       "      <td>0</td>\n",
       "      <td>41</td>\n",
       "      <td>35</td>\n",
       "      <td>7</td>\n",
       "      <td>6</td>\n",
       "      <td>5</td>\n",
       "      <td>11</td>\n",
       "      <td>0.454545</td>\n",
       "    </tr>\n",
       "    <tr>\n",
       "      <th>1</th>\n",
       "      <td>story kohinoor  kohinoor  diamond</td>\n",
       "      <td>would happen indian government stole kohinoor ...</td>\n",
       "      <td>0</td>\n",
       "      <td>33</td>\n",
       "      <td>69</td>\n",
       "      <td>6</td>\n",
       "      <td>11</td>\n",
       "      <td>3</td>\n",
       "      <td>13</td>\n",
       "      <td>0.230769</td>\n",
       "    </tr>\n",
       "    <tr>\n",
       "      <th>2</th>\n",
       "      <td>increase speed internet connection using vpn</td>\n",
       "      <td>internet speed increased hacking dns</td>\n",
       "      <td>0</td>\n",
       "      <td>44</td>\n",
       "      <td>36</td>\n",
       "      <td>6</td>\n",
       "      <td>5</td>\n",
       "      <td>2</td>\n",
       "      <td>11</td>\n",
       "      <td>0.181818</td>\n",
       "    </tr>\n",
       "    <tr>\n",
       "      <th>3</th>\n",
       "      <td>mentally lonely  solve it</td>\n",
       "      <td>find remainder  math  23  24   math  divided 2423</td>\n",
       "      <td>0</td>\n",
       "      <td>25</td>\n",
       "      <td>49</td>\n",
       "      <td>5</td>\n",
       "      <td>14</td>\n",
       "      <td>1</td>\n",
       "      <td>13</td>\n",
       "      <td>0.076923</td>\n",
       "    </tr>\n",
       "    <tr>\n",
       "      <th>4</th>\n",
       "      <td>one dissolve water quikly sugar  salt  methane...</td>\n",
       "      <td>fish would survive salt water</td>\n",
       "      <td>0</td>\n",
       "      <td>62</td>\n",
       "      <td>29</td>\n",
       "      <td>12</td>\n",
       "      <td>5</td>\n",
       "      <td>2</td>\n",
       "      <td>16</td>\n",
       "      <td>0.125000</td>\n",
       "    </tr>\n",
       "    <tr>\n",
       "      <th>...</th>\n",
       "      <td>...</td>\n",
       "      <td>...</td>\n",
       "      <td>...</td>\n",
       "      <td>...</td>\n",
       "      <td>...</td>\n",
       "      <td>...</td>\n",
       "      <td>...</td>\n",
       "      <td>...</td>\n",
       "      <td>...</td>\n",
       "      <td>...</td>\n",
       "    </tr>\n",
       "    <tr>\n",
       "      <th>49995</th>\n",
       "      <td>become succesful electrical maintenance engineer</td>\n",
       "      <td>best way good maintenance electrical engineer</td>\n",
       "      <td>1</td>\n",
       "      <td>48</td>\n",
       "      <td>45</td>\n",
       "      <td>5</td>\n",
       "      <td>6</td>\n",
       "      <td>3</td>\n",
       "      <td>11</td>\n",
       "      <td>0.272727</td>\n",
       "    </tr>\n",
       "    <tr>\n",
       "      <th>49996</th>\n",
       "      <td>aside essays  differences business school appl...</td>\n",
       "      <td>aside essays  differences business school appl...</td>\n",
       "      <td>0</td>\n",
       "      <td>79</td>\n",
       "      <td>84</td>\n",
       "      <td>12</td>\n",
       "      <td>14</td>\n",
       "      <td>11</td>\n",
       "      <td>23</td>\n",
       "      <td>0.478261</td>\n",
       "    </tr>\n",
       "    <tr>\n",
       "      <th>49997</th>\n",
       "      <td>kill procrastination</td>\n",
       "      <td>what s efficient way overcome procrastination</td>\n",
       "      <td>0</td>\n",
       "      <td>20</td>\n",
       "      <td>45</td>\n",
       "      <td>2</td>\n",
       "      <td>6</td>\n",
       "      <td>1</td>\n",
       "      <td>8</td>\n",
       "      <td>0.125000</td>\n",
       "    </tr>\n",
       "    <tr>\n",
       "      <th>49998</th>\n",
       "      <td>control anger towards friends</td>\n",
       "      <td>control anger towards family</td>\n",
       "      <td>0</td>\n",
       "      <td>29</td>\n",
       "      <td>28</td>\n",
       "      <td>4</td>\n",
       "      <td>4</td>\n",
       "      <td>3</td>\n",
       "      <td>8</td>\n",
       "      <td>0.375000</td>\n",
       "    </tr>\n",
       "    <tr>\n",
       "      <th>49999</th>\n",
       "      <td>easiest  painless way die instantly</td>\n",
       "      <td>die painlessly want to</td>\n",
       "      <td>0</td>\n",
       "      <td>35</td>\n",
       "      <td>22</td>\n",
       "      <td>6</td>\n",
       "      <td>4</td>\n",
       "      <td>1</td>\n",
       "      <td>10</td>\n",
       "      <td>0.100000</td>\n",
       "    </tr>\n",
       "  </tbody>\n",
       "</table>\n",
       "<p>50000 rows × 10 columns</p>\n",
       "</div>"
      ],
      "text/plain": [
       "                                               question1  \\\n",
       "0              step step guide invest share market india   \n",
       "1                      story kohinoor  kohinoor  diamond   \n",
       "2           increase speed internet connection using vpn   \n",
       "3                              mentally lonely  solve it   \n",
       "4      one dissolve water quikly sugar  salt  methane...   \n",
       "...                                                  ...   \n",
       "49995   become succesful electrical maintenance engineer   \n",
       "49996  aside essays  differences business school appl...   \n",
       "49997                               kill procrastination   \n",
       "49998                      control anger towards friends   \n",
       "49999                easiest  painless way die instantly   \n",
       "\n",
       "                                               question2  is_duplicate  \\\n",
       "0                    step step guide invest share market             0   \n",
       "1      would happen indian government stole kohinoor ...             0   \n",
       "2                   internet speed increased hacking dns             0   \n",
       "3      find remainder  math  23  24   math  divided 2423             0   \n",
       "4                          fish would survive salt water             0   \n",
       "...                                                  ...           ...   \n",
       "49995      best way good maintenance electrical engineer             1   \n",
       "49996  aside essays  differences business school appl...             0   \n",
       "49997      what s efficient way overcome procrastination             0   \n",
       "49998                       control anger towards family             0   \n",
       "49999                             die painlessly want to             0   \n",
       "\n",
       "       q1_count  q2_count  q1_word_count  q2_word_count  common_words  \\\n",
       "0            41        35              7              6             5   \n",
       "1            33        69              6             11             3   \n",
       "2            44        36              6              5             2   \n",
       "3            25        49              5             14             1   \n",
       "4            62        29             12              5             2   \n",
       "...         ...       ...            ...            ...           ...   \n",
       "49995        48        45              5              6             3   \n",
       "49996        79        84             12             14            11   \n",
       "49997        20        45              2              6             1   \n",
       "49998        29        28              4              4             3   \n",
       "49999        35        22              6              4             1   \n",
       "\n",
       "       total_words  common_word_ratio  \n",
       "0               11           0.454545  \n",
       "1               13           0.230769  \n",
       "2               11           0.181818  \n",
       "3               13           0.076923  \n",
       "4               16           0.125000  \n",
       "...            ...                ...  \n",
       "49995           11           0.272727  \n",
       "49996           23           0.478261  \n",
       "49997            8           0.125000  \n",
       "49998            8           0.375000  \n",
       "49999           10           0.100000  \n",
       "\n",
       "[50000 rows x 10 columns]"
      ]
     },
     "execution_count": 19,
     "metadata": {},
     "output_type": "execute_result"
    }
   ],
   "source": [
    "data_for_modelling"
   ]
  },
  {
   "cell_type": "code",
   "execution_count": null,
   "metadata": {
    "id": "fjhHDvY_8Pos"
   },
   "outputs": [],
   "source": []
  },
  {
   "cell_type": "markdown",
   "metadata": {
    "id": "2lGncTK7wFYB"
   },
   "source": [
    "# Text Representation"
   ]
  },
  {
   "cell_type": "code",
   "execution_count": 20,
   "metadata": {
    "id": "7R-2B-5-wIHA"
   },
   "outputs": [],
   "source": [
    "# using_tfidf\n",
    "tf_idf = TfidfVectorizer(max_features=6000)"
   ]
  },
  {
   "cell_type": "code",
   "execution_count": 21,
   "metadata": {
    "id": "EnKm_9eFwk-M"
   },
   "outputs": [],
   "source": [
    "df = data_for_modelling.copy() # keeping a copy for the future use"
   ]
  },
  {
   "cell_type": "code",
   "execution_count": 22,
   "metadata": {
    "id": "XshbkYGYwtGW"
   },
   "outputs": [],
   "source": [
    "# adding all those questions into a list\n",
    "questions = list(data_for_modelling['question1']) + list(data_for_modelling['question2'])\n",
    "\n",
    "# fitting tf-idf \n",
    "q1_array, q2_array = np.vsplit(tf_idf.fit_transform(questions).toarray(), 2)"
   ]
  },
  {
   "cell_type": "code",
   "execution_count": 23,
   "metadata": {
    "colab": {
     "base_uri": "https://localhost:8080/"
    },
    "id": "99efFPvRxQJc",
    "outputId": "500a0b50-961c-42cd-946c-b5058e0ac9bc"
   },
   "outputs": [
    {
     "data": {
      "text/plain": [
       "array([[0., 0., 0., ..., 0., 0., 0.],\n",
       "       [0., 0., 0., ..., 0., 0., 0.],\n",
       "       [0., 0., 0., ..., 0., 0., 0.],\n",
       "       ...,\n",
       "       [0., 0., 0., ..., 0., 0., 0.],\n",
       "       [0., 0., 0., ..., 0., 0., 0.],\n",
       "       [0., 0., 0., ..., 0., 0., 0.]])"
      ]
     },
     "execution_count": 23,
     "metadata": {},
     "output_type": "execute_result"
    }
   ],
   "source": [
    "q1_array"
   ]
  },
  {
   "cell_type": "code",
   "execution_count": 24,
   "metadata": {
    "colab": {
     "base_uri": "https://localhost:8080/"
    },
    "id": "XgYMFVUUxS1s",
    "outputId": "2f5db70c-ac45-4665-8d60-0ecb355030f4"
   },
   "outputs": [
    {
     "data": {
      "text/plain": [
       "array([[0., 0., 0., ..., 0., 0., 0.],\n",
       "       [0., 0., 0., ..., 0., 0., 0.],\n",
       "       [0., 0., 0., ..., 0., 0., 0.],\n",
       "       ...,\n",
       "       [0., 0., 0., ..., 0., 0., 0.],\n",
       "       [0., 0., 0., ..., 0., 0., 0.],\n",
       "       [0., 0., 0., ..., 0., 0., 0.]])"
      ]
     },
     "execution_count": 24,
     "metadata": {},
     "output_type": "execute_result"
    }
   ],
   "source": [
    "q2_array"
   ]
  },
  {
   "cell_type": "code",
   "execution_count": null,
   "metadata": {
    "id": "RjSuGg-LxUS4"
   },
   "outputs": [],
   "source": [
    "temp_1 = pd.DataFrame(q1_array, \n",
    "                      index=data_for_modelling.index)\n",
    "temp_2 = pd.DataFrame(q2_array,\n",
    "                      index = data_for_modelling.index)\n",
    "preprocessed_data = pd.concat([temp_1,temp_2], axis = 1)"
   ]
  },
  {
   "cell_type": "code",
   "execution_count": null,
   "metadata": {
    "id": "v0MfO2O9x1Ud"
   },
   "outputs": [],
   "source": [
    "preprocessed_data"
   ]
  },
  {
   "cell_type": "code",
   "execution_count": null,
   "metadata": {
    "id": "749qmFvUx7h4"
   },
   "outputs": [],
   "source": [
    "data_for_modelling.columns"
   ]
  },
  {
   "cell_type": "code",
   "execution_count": null,
   "metadata": {
    "id": "9FT_XPD_x_0d"
   },
   "outputs": [],
   "source": [
    "data_for_modelling = data_for_modelling[['q1_count', 'q2_count',\n",
    "       'q1_word_count', 'q2_word_count', 'common_words', 'total_words',\n",
    "       'common_word_ratio','is_duplicate']]"
   ]
  },
  {
   "cell_type": "code",
   "execution_count": null,
   "metadata": {
    "id": "GBiUADOqyNZV"
   },
   "outputs": [],
   "source": [
    "data_for_modelling"
   ]
  },
  {
   "cell_type": "code",
   "execution_count": null,
   "metadata": {
    "id": "1Vu-X0a3yPc0"
   },
   "outputs": [],
   "source": [
    "data_preprocessed = pd.concat([preprocessed_data, data_for_modelling], axis = 1)"
   ]
  },
  {
   "cell_type": "code",
   "execution_count": null,
   "metadata": {
    "id": "HrJGZSMmyaLE"
   },
   "outputs": [],
   "source": [
    "data_preprocessed"
   ]
  },
  {
   "cell_type": "code",
   "execution_count": null,
   "metadata": {
    "id": "4udRZFaZycWc"
   },
   "outputs": [],
   "source": [
    "X = data_preprocessed.iloc[:,:-1].values\n",
    "y = data_preprocessed.iloc[:,-1].values"
   ]
  },
  {
   "cell_type": "code",
   "execution_count": null,
   "metadata": {
    "id": "wLCx71j_yq6L"
   },
   "outputs": [],
   "source": [
    "X"
   ]
  },
  {
   "cell_type": "code",
   "execution_count": null,
   "metadata": {
    "id": "sej2zLEB-yGC"
   },
   "outputs": [],
   "source": [
    "X.shape"
   ]
  },
  {
   "cell_type": "code",
   "execution_count": null,
   "metadata": {
    "id": "aomNC4uZys2Y"
   },
   "outputs": [],
   "source": [
    "y"
   ]
  },
  {
   "cell_type": "code",
   "execution_count": null,
   "metadata": {
    "id": "C6mVSZ63ytys"
   },
   "outputs": [],
   "source": [
    "# data splitting for model building\n",
    "X_train, X_test, y_train, y_test = train_test_split(X, y, test_size = 0.26, random_state = 32)"
   ]
  },
  {
   "cell_type": "code",
   "execution_count": null,
   "metadata": {
    "id": "WAwvgPp28Nuk"
   },
   "outputs": [],
   "source": []
  },
  {
   "cell_type": "markdown",
   "metadata": {
    "id": "CH4rpmn0zcLu"
   },
   "source": [
    "# Model Building"
   ]
  },
  {
   "cell_type": "code",
   "execution_count": null,
   "metadata": {
    "id": "cBoGXE3ty3E-"
   },
   "outputs": [],
   "source": [
    "# RandomForest Model\n",
    "RF = RandomForestClassifier(criterion='entropy',\n",
    "                            random_state=32)\n",
    "RF.fit(X_train, y_train)"
   ]
  },
  {
   "cell_type": "code",
   "execution_count": null,
   "metadata": {
    "id": "rlOUP226zuIp"
   },
   "outputs": [],
   "source": [
    "y_pred_rf = RF.predict(X_test)"
   ]
  },
  {
   "cell_type": "markdown",
   "metadata": {
    "id": "DYq2RrIb7ri4"
   },
   "source": [
    "# Model Evaluation"
   ]
  },
  {
   "cell_type": "code",
   "execution_count": null,
   "metadata": {
    "id": "bYMO7dbz7u-9"
   },
   "outputs": [],
   "source": [
    "print('The accuracy score for RandomForest Model is: {} %'.format(round(accuracy_score(y_test, y_pred_rf)* 100,2)))"
   ]
  },
  {
   "cell_type": "code",
   "execution_count": null,
   "metadata": {
    "id": "CoYgACxe7vH6"
   },
   "outputs": [],
   "source": [
    "confusion_matrix(y_test, y_pred_rf)"
   ]
  },
  {
   "cell_type": "code",
   "execution_count": null,
   "metadata": {
    "id": "8PBqMYph8LlQ"
   },
   "outputs": [],
   "source": []
  },
  {
   "cell_type": "markdown",
   "metadata": {
    "id": "t7qfGKnX7_Cy"
   },
   "source": [
    "# Model Testing"
   ]
  },
  {
   "cell_type": "code",
   "execution_count": null,
   "metadata": {
    "id": "8HTPQFtp79qw"
   },
   "outputs": [],
   "source": [
    "# 7 features\n",
    "\n",
    "# let's define a function to take two input quries\n",
    "def common_words(q1,q2):\n",
    "    w1 = set(map(lambda x: x.lower().strip(), q1.split(' ')))\n",
    "    w2 = set(map(lambda x: x.lower().strip(), q2.split(' ')))\n",
    "    return len(w1 & w2)\n",
    "\n",
    "# total words\n",
    "def total_words(q1, q2):\n",
    "    w1 = set(map(lambda x: x.lower().strip(), q1.split(' ')))\n",
    "    w2 = set(map(lambda x: x.lower().strip(), q2.split(' ')))\n",
    "    return (len(w1) + len(w2))\n",
    "\n"
   ]
  },
  {
   "cell_type": "code",
   "execution_count": null,
   "metadata": {
    "id": "KE1G9eEC79yz"
   },
   "outputs": [],
   "source": [
    "def find_patterns_for_text(q1,q2):\n",
    "\n",
    "    query = [] # empty list\n",
    "\n",
    "    q1 = text_preprocess(q1) # applying text preprocessing\n",
    "    q2 = text_preprocess(q2) # applying text preprocessing\n",
    "\n",
    "    #append the features\n",
    "    query.append(len(q1))\n",
    "    query.append(len(q2))\n",
    "\n",
    "    # fetching word count\n",
    "    query.append(len(q1.split(' ')))\n",
    "    query.append(len(q2.split(' ')))\n",
    "\n",
    "    # fetching common words\n",
    "    query.append(common_words(q1,q2))\n",
    "\n",
    "    # fetching total words\n",
    "    query.append(total_words(q1,q2))\n",
    "\n",
    "    # fetching common word ratio\n",
    "    query.append(total_words(q1,q2) / common_words(q1,q2))\n",
    "\n",
    "    # apply tf-idf\n",
    "    q1_tfidf = tf_idf.transform([q1]).toarray()\n",
    "    q2_tfidf = tf_idf.transform([q2]).toarray()\n",
    "\n",
    "    return np.hstack((np.array(query).reshape(1,7), q1_tfidf,q2_tfidf))"
   ]
  },
  {
   "cell_type": "code",
   "execution_count": null,
   "metadata": {
    "id": "CVfMOGVr8DXC"
   },
   "outputs": [],
   "source": [
    "q3 = 'Which city serves as the capital of India?'\n",
    "q4 = 'What is the business capital of India?'\n",
    "q1 = 'Where is the capital of India?'"
   ]
  },
  {
   "cell_type": "code",
   "execution_count": null,
   "metadata": {
    "id": "jnpMhWin8DdR"
   },
   "outputs": [],
   "source": [
    "RF.predict(find_patterns_for_text(q1,q3)) "
   ]
  },
  {
   "cell_type": "code",
   "execution_count": null,
   "metadata": {},
   "outputs": [],
   "source": []
  },
  {
   "cell_type": "code",
   "execution_count": null,
   "metadata": {
    "id": "wgYKt-xX1TIo"
   },
   "outputs": [],
   "source": [
    "import pickle\n",
    "pickle.dump(RF, open('random_forest_model_for_quora_duplicate.pkl', 'wb'))\n",
    "pickle.dump(tf_idf, open('tf-idf_text_representation.pkl', 'wb'))"
   ]
  },
  {
   "cell_type": "code",
   "execution_count": null,
   "metadata": {
    "id": "LDdeixtq3odq"
   },
   "outputs": [],
   "source": []
  }
 ],
 "metadata": {
  "accelerator": "GPU",
  "colab": {
   "machine_shape": "hm",
   "name": "Quora_duplicate_question_pairs.ipynb",
   "provenance": []
  },
  "gpuClass": "standard",
  "kernelspec": {
   "display_name": "Python 3",
   "language": "python",
   "name": "python3"
  },
  "language_info": {
   "codemirror_mode": {
    "name": "ipython",
    "version": 3
   },
   "file_extension": ".py",
   "mimetype": "text/x-python",
   "name": "python",
   "nbconvert_exporter": "python",
   "pygments_lexer": "ipython3",
   "version": "3.8.8"
  }
 },
 "nbformat": 4,
 "nbformat_minor": 1
}
